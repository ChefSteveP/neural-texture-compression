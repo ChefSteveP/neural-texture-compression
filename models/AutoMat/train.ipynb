{
 "cells": [
  {
   "cell_type": "markdown",
   "metadata": {},
   "source": [
    "# AutoMat"
   ]
  },
  {
   "cell_type": "code",
   "execution_count": 1,
   "metadata": {},
   "outputs": [
    {
     "name": "stdout",
     "output_type": "stream",
     "text": [
      "Collecting datasets\n",
      "  Downloading datasets-3.5.0-py3-none-any.whl (491 kB)\n",
      "\u001b[2K     \u001b[90m━━━━━━━━━━━━━━━━━━━━━━━━━━━━━━━━━━━━━━━\u001b[0m \u001b[32m491.2/491.2 KB\u001b[0m \u001b[31m7.9 MB/s\u001b[0m eta \u001b[36m0:00:00\u001b[0ma \u001b[36m0:00:01\u001b[0m\n",
      "Collecting piq\n",
      "  Downloading piq-0.8.0-py3-none-any.whl (106 kB)\n",
      "\u001b[2K     \u001b[90m━━━━━━━━━━━━━━━━━━━━━━━━━━━━━━━━━━━━━━\u001b[0m \u001b[32m106.9/106.9 KB\u001b[0m \u001b[31m33.3 MB/s\u001b[0m eta \u001b[36m0:00:00\u001b[0m\n",
      "Collecting matplotlib\n",
      "  Downloading matplotlib-3.10.1-cp310-cp310-manylinux_2_17_x86_64.manylinux2014_x86_64.whl (8.6 MB)\n",
      "\u001b[2K     \u001b[90m━━━━━━━━━━━━━━━━━━━━━━━━━━━━━━━━━━━━━━━━\u001b[0m \u001b[32m8.6/8.6 MB\u001b[0m \u001b[31m79.2 MB/s\u001b[0m eta \u001b[36m0:00:00\u001b[0m00:01\u001b[0m00:01\u001b[0m\n",
      "Collecting xxhash\n",
      "  Downloading xxhash-3.5.0-cp310-cp310-manylinux_2_17_x86_64.manylinux2014_x86_64.whl (194 kB)\n",
      "\u001b[2K     \u001b[90m━━━━━━━━━━━━━━━━━━━━━━━━━━━━━━━━━━━━━━\u001b[0m \u001b[32m194.1/194.1 KB\u001b[0m \u001b[31m93.9 MB/s\u001b[0m eta \u001b[36m0:00:00\u001b[0m\n",
      "Requirement already satisfied: filelock in /venv/main/lib/python3.10/site-packages (from datasets) (3.17.0)\n",
      "Requirement already satisfied: huggingface-hub>=0.24.0 in /venv/main/lib/python3.10/site-packages (from datasets) (0.29.3)\n",
      "Collecting dill<0.3.9,>=0.3.0\n",
      "  Downloading dill-0.3.8-py3-none-any.whl (116 kB)\n",
      "\u001b[2K     \u001b[90m━━━━━━━━━━━━━━━━━━━━━━━━━━━━━━━━━━━━━━\u001b[0m \u001b[32m116.3/116.3 KB\u001b[0m \u001b[31m57.6 MB/s\u001b[0m eta \u001b[36m0:00:00\u001b[0m\n",
      "Collecting pandas\n",
      "  Downloading pandas-2.2.3-cp310-cp310-manylinux_2_17_x86_64.manylinux2014_x86_64.whl (13.1 MB)\n",
      "\u001b[2K     \u001b[90m━━━━━━━━━━━━━━━━━━━━━━━━━━━━━━━━━━━━━━━━\u001b[0m \u001b[32m13.1/13.1 MB\u001b[0m \u001b[31m94.8 MB/s\u001b[0m eta \u001b[36m0:00:00\u001b[0ma \u001b[36m0:00:01\u001b[0m\n",
      "\u001b[?25hRequirement already satisfied: pyyaml>=5.1 in /venv/main/lib/python3.10/site-packages (from datasets) (6.0.2)\n",
      "Collecting pyarrow>=15.0.0\n",
      "  Downloading pyarrow-19.0.1-cp310-cp310-manylinux_2_28_x86_64.whl (42.1 MB)\n",
      "\u001b[2K     \u001b[90m━━━━━━━━━━━━━━━━━━━━━━━━━━━━━━━━━━━━━━━━\u001b[0m \u001b[32m42.1/42.1 MB\u001b[0m \u001b[31m66.2 MB/s\u001b[0m eta \u001b[36m0:00:00\u001b[0m00:01\u001b[0m00:01\u001b[0m\n",
      "Collecting multiprocess<0.70.17\n",
      "  Downloading multiprocess-0.70.16-py310-none-any.whl (134 kB)\n",
      "\u001b[2K     \u001b[90m━━━━━━━━━━━━━━━━━━━━━━━━━━━━━━━━━━━━━━\u001b[0m \u001b[32m134.8/134.8 KB\u001b[0m \u001b[31m77.3 MB/s\u001b[0m eta \u001b[36m0:00:00\u001b[0m\n",
      "\u001b[?25hRequirement already satisfied: requests>=2.32.2 in /venv/main/lib/python3.10/site-packages (from datasets) (2.32.3)\n",
      "Requirement already satisfied: numpy>=1.17 in /venv/main/lib/python3.10/site-packages (from datasets) (2.1.2)\n",
      "Collecting aiohttp\n",
      "  Downloading aiohttp-3.11.16-cp310-cp310-manylinux_2_17_x86_64.manylinux2014_x86_64.whl (1.6 MB)\n",
      "\u001b[2K     \u001b[90m━━━━━━━━━━━━━━━━━━━━━━━━━━━━━━━━━━━━━━━━\u001b[0m \u001b[32m1.6/1.6 MB\u001b[0m \u001b[31m82.6 MB/s\u001b[0m eta \u001b[36m0:00:00\u001b[0m\n",
      "Collecting fsspec[http]<=2024.12.0,>=2023.1.0\n",
      "  Downloading fsspec-2024.12.0-py3-none-any.whl (183 kB)\n",
      "\u001b[2K     \u001b[90m━━━━━━━━━━━━━━━━━━━━━━━━━━━━━━━━━━━━━━\u001b[0m \u001b[32m183.9/183.9 KB\u001b[0m \u001b[31m80.5 MB/s\u001b[0m eta \u001b[36m0:00:00\u001b[0m\n",
      "\u001b[?25hRequirement already satisfied: packaging in /venv/main/lib/python3.10/site-packages (from datasets) (24.2)\n",
      "Requirement already satisfied: tqdm>=4.66.3 in /venv/main/lib/python3.10/site-packages (from datasets) (4.67.1)\n",
      "Requirement already satisfied: torchvision>=0.10.0 in /venv/main/lib/python3.10/site-packages (from piq) (0.21.0+cu124)\n",
      "Requirement already satisfied: python-dateutil>=2.7 in /venv/main/lib/python3.10/site-packages (from matplotlib) (2.9.0.post0)\n",
      "Collecting pyparsing>=2.3.1\n",
      "  Downloading pyparsing-3.2.3-py3-none-any.whl (111 kB)\n",
      "\u001b[2K     \u001b[90m━━━━━━━━━━━━━━━━━━━━━━━━━━━━━━━━━━━━━━\u001b[0m \u001b[32m111.1/111.1 KB\u001b[0m \u001b[31m57.9 MB/s\u001b[0m eta \u001b[36m0:00:00\u001b[0m\n",
      "Collecting contourpy>=1.0.1\n",
      "  Downloading contourpy-1.3.1-cp310-cp310-manylinux_2_17_x86_64.manylinux2014_x86_64.whl (324 kB)\n",
      "\u001b[2K     \u001b[90m━━━━━━━━━━━━━━━━━━━━━━━━━━━━━━━━━━━━━━\u001b[0m \u001b[32m325.0/325.0 KB\u001b[0m \u001b[31m11.0 MB/s\u001b[0m eta \u001b[36m0:00:00\u001b[0m\n",
      "Collecting kiwisolver>=1.3.1\n",
      "  Downloading kiwisolver-1.4.8-cp310-cp310-manylinux_2_12_x86_64.manylinux2010_x86_64.whl (1.6 MB)\n",
      "\u001b[2K     \u001b[90m━━━━━━━━━━━━━━━━━━━━━━━━━━━━━━━━━━━━━━━━\u001b[0m \u001b[32m1.6/1.6 MB\u001b[0m \u001b[31m43.2 MB/s\u001b[0m eta \u001b[36m0:00:00\u001b[0m:00:01\u001b[0m\n",
      "Collecting fonttools>=4.22.0\n",
      "  Downloading fonttools-4.57.0-cp310-cp310-manylinux_2_17_x86_64.manylinux2014_x86_64.whl (4.6 MB)\n",
      "\u001b[2K     \u001b[90m━━━━━━━━━━━━━━━━━━━━━━━━━━━━━━━━━━━━━━━━\u001b[0m \u001b[32m4.6/4.6 MB\u001b[0m \u001b[31m94.3 MB/s\u001b[0m eta \u001b[36m0:00:00\u001b[0mta \u001b[36m0:00:01\u001b[0m\n",
      "\u001b[?25hRequirement already satisfied: pillow>=8 in /venv/main/lib/python3.10/site-packages (from matplotlib) (11.0.0)\n",
      "Collecting cycler>=0.10\n",
      "  Downloading cycler-0.12.1-py3-none-any.whl (8.3 kB)\n",
      "Collecting aiohappyeyeballs>=2.3.0\n",
      "  Downloading aiohappyeyeballs-2.6.1-py3-none-any.whl (15 kB)\n",
      "Collecting attrs>=17.3.0\n",
      "  Downloading attrs-25.3.0-py3-none-any.whl (63 kB)\n",
      "\u001b[2K     \u001b[90m━━━━━━━━━━━━━━━━━━━━━━━━━━━━━━━━━━━━━━━━\u001b[0m \u001b[32m63.8/63.8 KB\u001b[0m \u001b[31m37.2 MB/s\u001b[0m eta \u001b[36m0:00:00\u001b[0m\n",
      "Collecting propcache>=0.2.0\n",
      "  Downloading propcache-0.3.1-cp310-cp310-manylinux_2_17_x86_64.manylinux2014_x86_64.whl (206 kB)\n",
      "\u001b[2K     \u001b[90m━━━━━━━━━━━━━━━━━━━━━━━━━━━━━━━━━━━━━\u001b[0m \u001b[32m206.6/206.6 KB\u001b[0m \u001b[31m103.9 MB/s\u001b[0m eta \u001b[36m0:00:00\u001b[0m\n",
      "Collecting frozenlist>=1.1.1\n",
      "  Downloading frozenlist-1.5.0-cp310-cp310-manylinux_2_5_x86_64.manylinux1_x86_64.manylinux_2_17_x86_64.manylinux2014_x86_64.whl (241 kB)\n",
      "\u001b[2K     \u001b[90m━━━━━━━━━━━━━━━━━━━━━━━━━━━━━━━━━━━━━━\u001b[0m \u001b[32m241.9/241.9 KB\u001b[0m \u001b[31m64.9 MB/s\u001b[0m eta \u001b[36m0:00:00\u001b[0m\n",
      "Collecting yarl<2.0,>=1.17.0\n",
      "  Downloading yarl-1.19.0-cp310-cp310-manylinux_2_17_x86_64.manylinux2014_x86_64.whl (334 kB)\n",
      "\u001b[2K     \u001b[90m━━━━━━━━━━━━━━━━━━━━━━━━━━━━━━━━━━━━━━\u001b[0m \u001b[32m334.0/334.0 KB\u001b[0m \u001b[31m71.3 MB/s\u001b[0m eta \u001b[36m0:00:00\u001b[0m\n",
      "Collecting async-timeout<6.0,>=4.0\n",
      "  Downloading async_timeout-5.0.1-py3-none-any.whl (6.2 kB)\n",
      "Collecting aiosignal>=1.1.2\n",
      "  Downloading aiosignal-1.3.2-py2.py3-none-any.whl (7.6 kB)\n",
      "Collecting multidict<7.0,>=4.5\n",
      "  Downloading multidict-6.4.3-cp310-cp310-manylinux_2_17_x86_64.manylinux2014_x86_64.whl (219 kB)\n",
      "\u001b[2K     \u001b[90m━━━━━━━━━━━━━━━━━━━━━━━━━━━━━━━━━━━━━━\u001b[0m \u001b[32m219.8/219.8 KB\u001b[0m \u001b[31m84.7 MB/s\u001b[0m eta \u001b[36m0:00:00\u001b[0m\n",
      "Requirement already satisfied: typing-extensions>=3.7.4.3 in /venv/main/lib/python3.10/site-packages (from huggingface-hub>=0.24.0->datasets) (4.12.2)\n",
      "Requirement already satisfied: six>=1.5 in /venv/main/lib/python3.10/site-packages (from python-dateutil>=2.7->matplotlib) (1.17.0)\n",
      "Requirement already satisfied: idna<4,>=2.5 in /venv/main/lib/python3.10/site-packages (from requests>=2.32.2->datasets) (3.10)\n",
      "Requirement already satisfied: urllib3<3,>=1.21.1 in /venv/main/lib/python3.10/site-packages (from requests>=2.32.2->datasets) (2.3.0)\n",
      "Requirement already satisfied: certifi>=2017.4.17 in /venv/main/lib/python3.10/site-packages (from requests>=2.32.2->datasets) (2025.1.31)\n",
      "Requirement already satisfied: charset-normalizer<4,>=2 in /venv/main/lib/python3.10/site-packages (from requests>=2.32.2->datasets) (3.4.1)\n",
      "Requirement already satisfied: torch==2.6.0 in /venv/main/lib/python3.10/site-packages (from torchvision>=0.10.0->piq) (2.6.0+cu124)\n",
      "Requirement already satisfied: nvidia-nvjitlink-cu12==12.4.127 in /venv/main/lib/python3.10/site-packages (from torch==2.6.0->torchvision>=0.10.0->piq) (12.4.127)\n",
      "Requirement already satisfied: nvidia-curand-cu12==10.3.5.147 in /venv/main/lib/python3.10/site-packages (from torch==2.6.0->torchvision>=0.10.0->piq) (10.3.5.147)\n",
      "Requirement already satisfied: nvidia-cuda-runtime-cu12==12.4.127 in /venv/main/lib/python3.10/site-packages (from torch==2.6.0->torchvision>=0.10.0->piq) (12.4.127)\n",
      "Requirement already satisfied: nvidia-cusparse-cu12==12.3.1.170 in /venv/main/lib/python3.10/site-packages (from torch==2.6.0->torchvision>=0.10.0->piq) (12.3.1.170)\n",
      "Requirement already satisfied: sympy==1.13.1 in /venv/main/lib/python3.10/site-packages (from torch==2.6.0->torchvision>=0.10.0->piq) (1.13.1)\n",
      "Requirement already satisfied: nvidia-cusolver-cu12==11.6.1.9 in /venv/main/lib/python3.10/site-packages (from torch==2.6.0->torchvision>=0.10.0->piq) (11.6.1.9)\n",
      "Requirement already satisfied: nvidia-cudnn-cu12==9.1.0.70 in /venv/main/lib/python3.10/site-packages (from torch==2.6.0->torchvision>=0.10.0->piq) (9.1.0.70)\n",
      "Requirement already satisfied: nvidia-cusparselt-cu12==0.6.2 in /venv/main/lib/python3.10/site-packages (from torch==2.6.0->torchvision>=0.10.0->piq) (0.6.2)\n",
      "Requirement already satisfied: triton==3.2.0 in /venv/main/lib/python3.10/site-packages (from torch==2.6.0->torchvision>=0.10.0->piq) (3.2.0)\n",
      "Requirement already satisfied: nvidia-nvtx-cu12==12.4.127 in /venv/main/lib/python3.10/site-packages (from torch==2.6.0->torchvision>=0.10.0->piq) (12.4.127)\n",
      "Requirement already satisfied: jinja2 in /venv/main/lib/python3.10/site-packages (from torch==2.6.0->torchvision>=0.10.0->piq) (3.1.4)\n",
      "Requirement already satisfied: networkx in /venv/main/lib/python3.10/site-packages (from torch==2.6.0->torchvision>=0.10.0->piq) (3.3)\n",
      "Requirement already satisfied: nvidia-cuda-cupti-cu12==12.4.127 in /venv/main/lib/python3.10/site-packages (from torch==2.6.0->torchvision>=0.10.0->piq) (12.4.127)\n",
      "Requirement already satisfied: nvidia-cuda-nvrtc-cu12==12.4.127 in /venv/main/lib/python3.10/site-packages (from torch==2.6.0->torchvision>=0.10.0->piq) (12.4.127)\n",
      "Requirement already satisfied: nvidia-cublas-cu12==12.4.5.8 in /venv/main/lib/python3.10/site-packages (from torch==2.6.0->torchvision>=0.10.0->piq) (12.4.5.8)\n",
      "Requirement already satisfied: nvidia-cufft-cu12==11.2.1.3 in /venv/main/lib/python3.10/site-packages (from torch==2.6.0->torchvision>=0.10.0->piq) (11.2.1.3)\n",
      "Requirement already satisfied: nvidia-nccl-cu12==2.21.5 in /venv/main/lib/python3.10/site-packages (from torch==2.6.0->torchvision>=0.10.0->piq) (2.21.5)\n",
      "Requirement already satisfied: mpmath<1.4,>=1.1.0 in /venv/main/lib/python3.10/site-packages (from sympy==1.13.1->torch==2.6.0->torchvision>=0.10.0->piq) (1.3.0)\n",
      "Collecting pytz>=2020.1\n",
      "  Downloading pytz-2025.2-py2.py3-none-any.whl (509 kB)\n",
      "\u001b[2K     \u001b[90m━━━━━━━━━━━━━━━━━━━━━━━━━━━━━━━━━━━━━\u001b[0m \u001b[32m509.2/509.2 KB\u001b[0m \u001b[31m104.3 MB/s\u001b[0m eta \u001b[36m0:00:00\u001b[0m\n",
      "\u001b[?25hCollecting tzdata>=2022.7\n",
      "  Downloading tzdata-2025.2-py2.py3-none-any.whl (347 kB)\n",
      "\u001b[2K     \u001b[90m━━━━━━━━━━━━━━━━━━━━━━━━━━━━━━━━━━━━━\u001b[0m \u001b[32m347.8/347.8 KB\u001b[0m \u001b[31m109.4 MB/s\u001b[0m eta \u001b[36m0:00:00\u001b[0m\n",
      "Requirement already satisfied: MarkupSafe>=2.0 in /venv/main/lib/python3.10/site-packages (from jinja2->torch==2.6.0->torchvision>=0.10.0->piq) (2.1.5)\n",
      "Installing collected packages: pytz, xxhash, tzdata, pyparsing, pyarrow, propcache, multidict, kiwisolver, fsspec, frozenlist, fonttools, dill, cycler, contourpy, attrs, async-timeout, aiohappyeyeballs, yarl, pandas, multiprocess, matplotlib, aiosignal, aiohttp, piq, datasets\n",
      "  Attempting uninstall: fsspec\n",
      "    Found existing installation: fsspec 2025.3.0\n",
      "    Uninstalling fsspec-2025.3.0:\n",
      "      Successfully uninstalled fsspec-2025.3.0\n",
      "Successfully installed aiohappyeyeballs-2.6.1 aiohttp-3.11.16 aiosignal-1.3.2 async-timeout-5.0.1 attrs-25.3.0 contourpy-1.3.1 cycler-0.12.1 datasets-3.5.0 dill-0.3.8 fonttools-4.57.0 frozenlist-1.5.0 fsspec-2024.12.0 kiwisolver-1.4.8 matplotlib-3.10.1 multidict-6.4.3 multiprocess-0.70.16 pandas-2.2.3 piq-0.8.0 propcache-0.3.1 pyarrow-19.0.1 pyparsing-3.2.3 pytz-2025.2 tzdata-2025.2 xxhash-3.5.0 yarl-1.19.0\n"
     ]
    }
   ],
   "source": [
    "!pip install datasets piq matplotlib"
   ]
  },
  {
   "cell_type": "markdown",
   "metadata": {},
   "source": [
    "## Dataset"
   ]
  },
  {
   "cell_type": "code",
   "execution_count": 2,
   "metadata": {},
   "outputs": [],
   "source": [
    "from datasets import load_dataset\n",
    "\n",
    "import gc\n",
    "import torch\n",
    "import torch\n",
    "import torch.nn as nn\n",
    "import torch.optim as optim\n",
    "import torchvision.transforms as transforms\n",
    "import matplotlib.pyplot as plt\n",
    "\n",
    "from torch.utils.data import DataLoader, random_split\n",
    "from torchvision import transforms\n",
    "from datasets import load_dataset\n",
    "from PIL import Image\n",
    "from torch.utils.data import DataLoader, Dataset"
   ]
  },
  {
   "cell_type": "code",
   "execution_count": 3,
   "metadata": {},
   "outputs": [],
   "source": [
    "batch_size = 16\n",
    "learning_rate = 1e-3\n",
    "num_epochs = 50\n",
    "latent_dim = 128"
   ]
  },
  {
   "cell_type": "code",
   "execution_count": 4,
   "metadata": {},
   "outputs": [],
   "source": [
    "class TexturesDataset(Dataset):\n",
    "    def __init__(self, split=\"train\"):\n",
    "        raw_dataset = load_dataset(\n",
    "            \"dream-textures/textures-color-normal-1k\", split=split\n",
    "        )\n",
    "        self.valid_samples = []\n",
    "\n",
    "        for i in range(len(raw_dataset)):\n",
    "            if i == 465:\n",
    "                continue\n",
    "\n",
    "            sample = raw_dataset[i]\n",
    "\n",
    "            color, normal = sample[\"color\"], sample[\"normal\"]\n",
    "            if (\n",
    "                isinstance(color, Image.Image)\n",
    "                and color.mode == \"RGB\"\n",
    "                and isinstance(normal, Image.Image)\n",
    "                and normal.mode == \"RGB\"\n",
    "            ):\n",
    "                self.valid_samples.append(sample)\n",
    "            else:\n",
    "                print(\n",
    "                    f\"Skipping sample {i}: invalid mode. Color: {getattr(color, 'mode', None)}, Normal: {getattr(normal, 'mode', None)}\"\n",
    "                )\n",
    "\n",
    "        print(\n",
    "            f\"Loaded {len(self.valid_samples)} valid RGB samples out of {len(raw_dataset)}.\"\n",
    "        )\n",
    "\n",
    "        self.transform = transforms.Compose(\n",
    "            [transforms.Resize((512, 512)), transforms.ToTensor()]\n",
    "        )\n",
    "\n",
    "    def __len__(self):\n",
    "        return len(self.valid_samples)\n",
    "\n",
    "    def __getitem__(self, idx):\n",
    "        sample = self.valid_samples[idx]\n",
    "        color = self.transform(sample[\"color\"])\n",
    "        normal = self.transform(sample[\"normal\"])\n",
    "        return torch.cat((color, normal), dim=0)"
   ]
  },
  {
   "cell_type": "code",
   "execution_count": 5,
   "metadata": {},
   "outputs": [
    {
     "data": {
      "application/vnd.jupyter.widget-view+json": {
       "model_id": "af0008d3d02841928a23cfcf5d8d9dc3",
       "version_major": 2,
       "version_minor": 0
      },
      "text/plain": [
       "README.md:   0%|          | 0.00/2.72k [00:00<?, ?B/s]"
      ]
     },
     "metadata": {},
     "output_type": "display_data"
    },
    {
     "data": {
      "application/vnd.jupyter.widget-view+json": {
       "model_id": "ea637780863a478284035b239f4421f0",
       "version_major": 2,
       "version_minor": 0
      },
      "text/plain": [
       "(…)-00000-of-00001-7d3033d434a1d73a.parquet:   0%|          | 0.00/111M [00:00<?, ?B/s]"
      ]
     },
     "metadata": {},
     "output_type": "display_data"
    },
    {
     "data": {
      "application/vnd.jupyter.widget-view+json": {
       "model_id": "d235811466fb42288ff81bfcc23149f8",
       "version_major": 2,
       "version_minor": 0
      },
      "text/plain": [
       "Generating train split:   0%|          | 0/1426 [00:00<?, ? examples/s]"
      ]
     },
     "metadata": {},
     "output_type": "display_data"
    },
    {
     "name": "stdout",
     "output_type": "stream",
     "text": [
      "Skipping sample 35: invalid mode. Color: L, Normal: RGB\n",
      "Skipping sample 155: invalid mode. Color: L, Normal: RGB\n",
      "Skipping sample 300: invalid mode. Color: L, Normal: RGB\n",
      "Skipping sample 366: invalid mode. Color: L, Normal: RGB\n",
      "Skipping sample 495: invalid mode. Color: L, Normal: RGB\n",
      "Skipping sample 713: invalid mode. Color: L, Normal: RGB\n",
      "Skipping sample 728: invalid mode. Color: L, Normal: RGB\n",
      "Skipping sample 734: invalid mode. Color: L, Normal: RGB\n",
      "Skipping sample 791: invalid mode. Color: L, Normal: RGB\n",
      "Skipping sample 805: invalid mode. Color: L, Normal: RGB\n",
      "Skipping sample 847: invalid mode. Color: L, Normal: RGB\n",
      "Skipping sample 863: invalid mode. Color: L, Normal: RGB\n",
      "Skipping sample 879: invalid mode. Color: L, Normal: RGB\n",
      "Skipping sample 1056: invalid mode. Color: L, Normal: RGB\n",
      "Skipping sample 1090: invalid mode. Color: L, Normal: RGB\n",
      "Skipping sample 1227: invalid mode. Color: L, Normal: RGB\n",
      "Skipping sample 1262: invalid mode. Color: L, Normal: RGB\n",
      "Skipping sample 1331: invalid mode. Color: L, Normal: RGB\n",
      "Skipping sample 1370: invalid mode. Color: L, Normal: RGB\n",
      "Skipping sample 1381: invalid mode. Color: L, Normal: RGB\n",
      "Skipping sample 1392: invalid mode. Color: L, Normal: RGB\n",
      "Skipping sample 1402: invalid mode. Color: L, Normal: RGB\n",
      "Loaded 1403 valid RGB samples out of 1426.\n"
     ]
    }
   ],
   "source": [
    "dataset = TexturesDataset()\n",
    "\n",
    "\n",
    "train_size = int(0.8 * len(dataset))\n",
    "test_size = len(dataset) - train_size\n",
    "\n",
    "train_dataset, test_dataset = random_split(\n",
    "    dataset, [train_size, test_size], generator=torch.Generator().manual_seed(42)\n",
    ")"
   ]
  },
  {
   "cell_type": "code",
   "execution_count": 6,
   "metadata": {},
   "outputs": [
    {
     "data": {
      "text/plain": [
       "torch.Size([6, 512, 512])"
      ]
     },
     "execution_count": 6,
     "metadata": {},
     "output_type": "execute_result"
    }
   ],
   "source": [
    "train_dataset[0].shape"
   ]
  },
  {
   "cell_type": "code",
   "execution_count": 7,
   "metadata": {},
   "outputs": [],
   "source": [
    "train_loader = DataLoader(\n",
    "    train_dataset,\n",
    "    batch_size=batch_size,\n",
    "    shuffle=True,\n",
    ")\n",
    "test_loader = DataLoader(\n",
    "    test_dataset,\n",
    "    batch_size=batch_size,\n",
    "    shuffle=False,\n",
    ")"
   ]
  },
  {
   "cell_type": "code",
   "execution_count": 8,
   "metadata": {},
   "outputs": [],
   "source": [
    "class SkipConnectionAutoencoder(nn.Module):\n",
    "    def __init__(self, latent_dim=128):\n",
    "        super(SkipConnectionAutoencoder, self).__init__()\n",
    "\n",
    "        self.enc1 = nn.Sequential(\n",
    "            nn.Conv2d(6, 64, 4, stride=2, padding=1), nn.ReLU()  # -> (64, 256, 256)\n",
    "        )\n",
    "        self.enc2 = nn.Sequential(\n",
    "            nn.Conv2d(64, 128, 4, stride=2, padding=1), nn.ReLU()  # -> (128, 128, 128)\n",
    "        )\n",
    "        self.enc3 = nn.Sequential(\n",
    "            nn.Conv2d(128, 256, 4, stride=2, padding=1), nn.ReLU()  # -> (256, 64, 64)\n",
    "        )\n",
    "\n",
    "        self.bottleneck_enc = nn.Sequential(\n",
    "            nn.Flatten(), nn.Linear(256 * 64 * 64, latent_dim)\n",
    "        )\n",
    "        self.bottleneck_dec = nn.Sequential(\n",
    "            nn.Linear(latent_dim, 256 * 64 * 64),\n",
    "            nn.ReLU(),\n",
    "            nn.Unflatten(1, (256, 64, 64)),\n",
    "        )\n",
    "\n",
    "        # Decoder layers\n",
    "        self.dec3 = nn.Sequential(\n",
    "            nn.ConvTranspose2d(\n",
    "                256 * 2, 128, 4, stride=2, padding=1\n",
    "            ),  # Input channels doubled for skip connection\n",
    "            nn.ReLU(),\n",
    "        )\n",
    "        self.dec2 = nn.Sequential(\n",
    "            nn.ConvTranspose2d(\n",
    "                128 * 2, 64, 4, stride=2, padding=1\n",
    "            ),  # Input channels doubled for skip connection\n",
    "            nn.ReLU(),\n",
    "        )\n",
    "        self.dec1 = nn.Sequential(\n",
    "            nn.ConvTranspose2d(\n",
    "                64 * 2, 6, 4, stride=2, padding=1\n",
    "            ),  # Input channels doubled for skip connection\n",
    "            nn.Sigmoid(),\n",
    "        )\n",
    "\n",
    "    def forward(self, x):\n",
    "        # Encoder path with saved feature maps\n",
    "        e1 = self.enc1(x)\n",
    "        e2 = self.enc2(e1)\n",
    "        e3 = self.enc3(e2)\n",
    "\n",
    "        # Bottleneck\n",
    "        z = self.bottleneck_enc(e3)\n",
    "        d3 = self.bottleneck_dec(z)\n",
    "\n",
    "        # Decoder path with skip connections\n",
    "        # Concatenate decoder features with corresponding encoder features\n",
    "        d3_skip = torch.cat([d3, e3], dim=1)  # Skip connection from encoder to decoder\n",
    "        d2 = self.dec3(d3_skip)\n",
    "\n",
    "        d2_skip = torch.cat([d2, e2], dim=1)  # Skip connection from encoder to decoder\n",
    "        d1 = self.dec2(d2_skip)\n",
    "\n",
    "        d1_skip = torch.cat([d1, e1], dim=1)  # Skip connection from encoder to decoder\n",
    "        output = self.dec1(d1_skip)\n",
    "\n",
    "        return output"
   ]
  },
  {
   "cell_type": "markdown",
   "metadata": {},
   "source": [
    "## Training"
   ]
  },
  {
   "cell_type": "code",
   "execution_count": 17,
   "metadata": {},
   "outputs": [
    {
     "name": "stdout",
     "output_type": "stream",
     "text": [
      "Using device: cuda\n"
     ]
    }
   ],
   "source": [
    "device = torch.device(\"cuda\" if torch.cuda.is_available() else \"cpu\")\n",
    "print(f\"Using device: {device}\")\n",
    "model = SkipConnectionAutoencoder().to(device)\n",
    "criterion = nn.MSELoss()\n",
    "optimizer = optim.Adam(model.parameters(), lr=learning_rate)"
   ]
  },
  {
   "cell_type": "code",
   "execution_count": 18,
   "metadata": {},
   "outputs": [
    {
     "name": "stdout",
     "output_type": "stream",
     "text": [
      "Epoch [1/50], Loss: 0.0148\n",
      "Epoch [2/50], Loss: 0.0045\n",
      "Epoch [3/50], Loss: 0.0035\n",
      "Epoch [4/50], Loss: 0.0030\n",
      "Epoch [5/50], Loss: 0.0026\n",
      "Epoch [6/50], Loss: 0.0022\n",
      "Epoch [7/50], Loss: 0.0020\n",
      "Epoch [8/50], Loss: 0.0018\n",
      "Epoch [9/50], Loss: 0.0016\n",
      "Epoch [10/50], Loss: 0.0014\n",
      "Epoch [11/50], Loss: 0.0014\n",
      "Epoch [12/50], Loss: 0.0012\n",
      "Epoch [13/50], Loss: 0.0011\n",
      "Epoch [14/50], Loss: 0.0010\n",
      "Epoch [15/50], Loss: 0.0010\n",
      "Epoch [16/50], Loss: 0.0015\n",
      "Epoch [17/50], Loss: 0.0011\n",
      "Epoch [18/50], Loss: 0.0010\n",
      "Epoch [19/50], Loss: 0.0010\n",
      "Epoch [20/50], Loss: 0.0010\n",
      "Epoch [21/50], Loss: 0.0009\n",
      "Epoch [22/50], Loss: 0.0008\n",
      "Epoch [23/50], Loss: 0.0008\n",
      "Epoch [24/50], Loss: 0.0007\n",
      "Epoch [25/50], Loss: 0.0008\n",
      "Epoch [26/50], Loss: 0.0007\n",
      "Epoch [27/50], Loss: 0.0006\n",
      "Epoch [28/50], Loss: 0.0006\n",
      "Epoch [29/50], Loss: 0.0006\n",
      "Epoch [30/50], Loss: 0.0006\n",
      "Epoch [31/50], Loss: 0.0006\n",
      "Epoch [32/50], Loss: 0.0005\n",
      "Epoch [33/50], Loss: 0.0005\n",
      "Epoch [34/50], Loss: 0.0005\n",
      "Epoch [35/50], Loss: 0.0005\n",
      "Epoch [36/50], Loss: 0.0005\n",
      "Epoch [37/50], Loss: 0.0005\n",
      "Epoch [38/50], Loss: 0.0005\n",
      "Epoch [39/50], Loss: 0.0004\n",
      "Epoch [40/50], Loss: 0.0004\n",
      "Epoch [41/50], Loss: 0.0004\n",
      "Epoch [42/50], Loss: 0.0004\n",
      "Epoch [43/50], Loss: 0.0004\n",
      "Epoch [44/50], Loss: 0.0004\n",
      "Epoch [45/50], Loss: 0.0004\n",
      "Epoch [46/50], Loss: 0.0004\n",
      "Epoch [47/50], Loss: 0.0004\n",
      "Epoch [48/50], Loss: 0.0003\n",
      "Epoch [49/50], Loss: 0.0003\n",
      "Epoch [50/50], Loss: 0.0003\n"
     ]
    }
   ],
   "source": [
    "loss_values = []\n",
    "\n",
    "for epoch in range(num_epochs):\n",
    "    total_loss = 0\n",
    "    for data in train_loader:\n",
    "        data = data.to(device)\n",
    "        optimizer.zero_grad()\n",
    "        output = model(data)        \n",
    "        loss = criterion(output, data)\n",
    "        loss.backward()\n",
    "        optimizer.step()\n",
    "        total_loss += loss.item()\n",
    "    \n",
    "    average_loss = total_loss / len(train_loader)\n",
    "    loss_values.append(average_loss)\n",
    "    print(f\"Epoch [{epoch+1}/{num_epochs}], Loss: {average_loss:.4f}\")"
   ]
  },
  {
   "cell_type": "code",
   "execution_count": 19,
   "metadata": {},
   "outputs": [
    {
     "data": {
      "image/png": "[encoded data removed]",
      "text/plain": [
       "<Figure size 800x500 with 1 Axes>"
      ]
     },
     "metadata": {},
     "output_type": "display_data"
    }
   ],
   "source": [
    "plt.figure(figsize=(8, 5))\n",
    "plt.plot(range(1, num_epochs + 1), loss_values, marker='o', label='Training Loss')\n",
    "plt.title('Training Loss Curve')\n",
    "plt.xlabel('Epoch')\n",
    "plt.ylabel('Loss')\n",
    "plt.grid(True)\n",
    "plt.legend()\n",
    "plt.tight_layout()\n",
    "plt.show()"
   ]
  },
  {
   "cell_type": "markdown",
   "metadata": {},
   "source": [
    "## Inference"
   ]
  },
  {
   "cell_type": "code",
   "execution_count": 11,
   "metadata": {},
   "outputs": [],
   "source": [
    "from piq import psnr, ssim, multi_scale_ssim"
   ]
  },
  {
   "cell_type": "code",
   "execution_count": 12,
   "metadata": {},
   "outputs": [],
   "source": [
    "def evaluate(model):\n",
    "    model.eval()\n",
    "    \n",
    "    # Initialize metrics\n",
    "    total_psnr = 0\n",
    "    total_ssim = 0\n",
    "    total_mse = 0\n",
    "    total_ms_ssim = 0\n",
    "    num_samples = 0\n",
    "    \n",
    "    # Turn off gradients during testing to save memory and computation\n",
    "    with torch.no_grad():\n",
    "        for data in test_loader:\n",
    "            data = data.to(device)\n",
    "            output = model(data)\n",
    "    \n",
    "            # Calculate PSNR, SSIM, and MSE between input (data) and output (reconstructed)\n",
    "            psnr_value = psnr(output, data)\n",
    "            ssim_value = ssim(output, data, data_range=1.0)\n",
    "            mse_value = nn.MSELoss()(output, data)\n",
    "            ms_ssim_value = multi_scale_ssim(output, data, data_range=1.0)\n",
    "    \n",
    "            # Aggregate the metrics\n",
    "            total_psnr += psnr_value.item()\n",
    "            total_ssim += ssim_value.item()\n",
    "            total_mse += mse_value.item()\n",
    "            total_ms_ssim += ms_ssim_value.item()\n",
    "            num_samples += 1\n",
    "    \n",
    "    # Calculate average metrics\n",
    "    avg_psnr = total_psnr / num_samples\n",
    "    avg_ssim = total_ssim / num_samples\n",
    "    avg_mse = total_mse / num_samples\n",
    "    avg_ms_ssim = total_ms_ssim / num_samples\n",
    "    \n",
    "    # Print out the results\n",
    "    print(f\"Test Metrics:\")\n",
    "    print(f\"Average PSNR: {avg_psnr:.4f}\")\n",
    "    print(f\"Average SSIM: {avg_ssim:.4f}\")\n",
    "    print(f\"Average MSE: {avg_mse:.4f}\")\n",
    "    print(f\"Average MS-SSIM: {avg_ms_ssim:.4f}\")"
   ]
  },
  {
   "cell_type": "code",
   "execution_count": 13,
   "metadata": {},
   "outputs": [
    {
     "name": "stdout",
     "output_type": "stream",
     "text": [
      "Test Metrics:\n",
      "Average PSNR: 34.4221\n",
      "Average SSIM: 0.9717\n",
      "Average MSE: 0.0005\n",
      "Average MS-SSIM: 0.9821\n"
     ]
    }
   ],
   "source": [
    "evaluate(model)"
   ]
  },
  {
   "cell_type": "markdown",
   "metadata": {},
   "source": [
    "## Loss Functions"
   ]
  },
  {
   "cell_type": "code",
   "execution_count": 32,
   "metadata": {},
   "outputs": [],
   "source": [
    "def get_loss_function(name=\"mse\"):\n",
    "    if name == \"mse\":\n",
    "        return lambda x, y: nn.functional.mse_loss(x, y)\n",
    "    elif name == \"l1\":\n",
    "        return lambda x, y: nn.functional.l1_loss(x, y)\n",
    "    elif name == \"ssim\":\n",
    "        return lambda x, y: 1 - piq.ssim(x, y, data_range=1.0)\n",
    "    elif name == \"ms-ssim\":\n",
    "        return lambda x, y: 1 - piq.multi_scale_ssim(x, y, data_range=1.0)\n",
    "    else:\n",
    "        raise ValueError(f\"Unknown loss function: {name}\")\n"
   ]
  },
  {
   "cell_type": "code",
   "execution_count": 30,
   "metadata": {},
   "outputs": [
    {
     "name": "stdout",
     "output_type": "stream",
     "text": [
      "\n",
      "Training with MSE loss\n",
      "----------------------------------------\n",
      "Epoch [1/5], Loss: 0.0156\n",
      "Epoch [2/5], Loss: 0.0050\n",
      "Epoch [3/5], Loss: 0.0037\n",
      "Epoch [4/5], Loss: 0.0032\n",
      "Epoch [5/5], Loss: 0.0030\n",
      "Test Metrics:\n",
      "Average PSNR: 26.6345\n",
      "Average SSIM: 0.8283\n",
      "Average MSE: 0.0030\n",
      "Average MS-SSIM: 0.8847\n",
      "\n",
      "Training with L1 loss\n",
      "----------------------------------------\n",
      "Epoch [1/5], Loss: 0.0871\n",
      "Epoch [2/5], Loss: 0.0478\n",
      "Epoch [3/5], Loss: 0.0407\n",
      "Epoch [4/5], Loss: 0.0387\n",
      "Epoch [5/5], Loss: 0.0368\n",
      "Test Metrics:\n",
      "Average PSNR: 26.9646\n",
      "Average SSIM: 0.7852\n",
      "Average MSE: 0.0034\n",
      "Average MS-SSIM: 0.8427\n",
      "\n",
      "Training with SSIM loss\n",
      "----------------------------------------\n",
      "Epoch [1/5], Loss: 0.2942\n",
      "Epoch [2/5], Loss: 0.0798\n",
      "Epoch [3/5], Loss: 0.0433\n",
      "Epoch [4/5], Loss: 0.0313\n",
      "Epoch [5/5], Loss: 0.0271\n",
      "Test Metrics:\n",
      "Average PSNR: 20.3198\n",
      "Average SSIM: 0.9796\n",
      "Average MSE: 0.0095\n",
      "Average MS-SSIM: 0.9464\n",
      "\n",
      "Training with MS-SSIM loss\n",
      "----------------------------------------\n",
      "Epoch [1/5], Loss: 0.2179\n",
      "Epoch [2/5], Loss: 0.0689\n",
      "Epoch [3/5], Loss: 0.0384\n",
      "Epoch [4/5], Loss: 0.0254\n",
      "Epoch [5/5], Loss: 0.0197\n",
      "Test Metrics:\n",
      "Average PSNR: 19.2252\n",
      "Average SSIM: 0.9645\n",
      "Average MSE: 0.0121\n",
      "Average MS-SSIM: 0.9818\n"
     ]
    }
   ],
   "source": [
    "loss_functions = [\"mse\", \"l1\", \"ssim\", \"ms-ssim\"]\n",
    "\n",
    "for loss_name in loss_functions:\n",
    "    print(f\"\\nTraining with {loss_name.upper()} loss\\n\" + \"-\" * 40)\n",
    "\n",
    "    model = SkipConnectionAutoencoder(latent_dim=latent_dim).to(device)\n",
    "    optimizer = optim.Adam(model.parameters(), lr=learning_rate)\n",
    "    criterion = get_loss_function(loss_name)\n",
    "\n",
    "    for epoch in range(5):\n",
    "        total_loss = 0\n",
    "        for data in train_loader:\n",
    "            data = data.to(device)\n",
    "            optimizer.zero_grad()\n",
    "            output = model(data)\n",
    "            loss = criterion(output, data)\n",
    "            loss.backward()\n",
    "            optimizer.step()\n",
    "            total_loss += loss.item()\n",
    "        print(f\"Epoch [{epoch+1}/5], Loss: {total_loss / len(train_loader):.4f}\")\n",
    "\n",
    "    evaluate(model)\n",
    "    \n",
    "    del model, optimizer\n",
    "    torch.cuda.empty_cache()\n",
    "    gc.collect()"
   ]
  },
  {
   "cell_type": "markdown",
   "metadata": {},
   "source": [
    "# Hybrid Loss Function\n"
   ]
  },
  {
   "cell_type": "code",
   "execution_count": 13,
   "metadata": {},
   "outputs": [
    {
     "name": "stdout",
     "output_type": "stream",
     "text": [
      "Using device: cuda\n"
     ]
    }
   ],
   "source": [
    "device = torch.device(\"cuda\" if torch.cuda.is_available() else \"cpu\")\n",
    "print(f\"Using device: {device}\")\n",
    "model = SkipConnectionAutoencoder().to(device)\n",
    "mse_loss = nn.MSELoss()\n",
    "optimizer = optim.Adam(model.parameters(), lr=learning_rate)\n",
    "alpha = 0.2"
   ]
  },
  {
   "cell_type": "code",
   "execution_count": 14,
   "metadata": {},
   "outputs": [
    {
     "name": "stdout",
     "output_type": "stream",
     "text": [
      "Epoch [1/50], Loss: 0.1751\n",
      "Epoch [2/50], Loss: 0.0610\n",
      "Epoch [3/50], Loss: 0.0486\n",
      "Epoch [4/50], Loss: 0.0318\n",
      "Epoch [5/50], Loss: 0.0252\n",
      "Epoch [6/50], Loss: 0.0203\n",
      "Epoch [7/50], Loss: 0.0165\n",
      "Epoch [8/50], Loss: 0.0142\n",
      "Epoch [9/50], Loss: 0.0131\n",
      "Epoch [10/50], Loss: 0.0126\n",
      "Epoch [11/50], Loss: 0.0119\n",
      "Epoch [12/50], Loss: 0.0111\n",
      "Epoch [13/50], Loss: 0.0107\n",
      "Epoch [14/50], Loss: 0.0106\n",
      "Epoch [15/50], Loss: 0.0102\n",
      "Epoch [16/50], Loss: 0.0099\n",
      "Epoch [17/50], Loss: 0.0101\n",
      "Epoch [18/50], Loss: 0.0092\n",
      "Epoch [19/50], Loss: 0.0091\n",
      "Epoch [20/50], Loss: 0.0088\n",
      "Epoch [21/50], Loss: 0.0086\n",
      "Epoch [22/50], Loss: 0.0083\n",
      "Epoch [23/50], Loss: 0.0083\n",
      "Epoch [24/50], Loss: 0.0081\n",
      "Epoch [25/50], Loss: 0.0078\n",
      "Epoch [26/50], Loss: 0.0080\n",
      "Epoch [27/50], Loss: 0.0073\n",
      "Epoch [28/50], Loss: 0.0075\n",
      "Epoch [29/50], Loss: 0.0071\n",
      "Epoch [30/50], Loss: 0.0070\n",
      "Epoch [31/50], Loss: 0.0069\n",
      "Epoch [32/50], Loss: 0.0071\n",
      "Epoch [33/50], Loss: 0.0066\n",
      "Epoch [34/50], Loss: 0.0068\n",
      "Epoch [35/50], Loss: 0.0065\n",
      "Epoch [36/50], Loss: 0.0065\n",
      "Epoch [37/50], Loss: 0.0064\n",
      "Epoch [38/50], Loss: 0.0065\n",
      "Epoch [39/50], Loss: 0.0063\n",
      "Epoch [40/50], Loss: 0.0061\n",
      "Epoch [41/50], Loss: 0.0061\n",
      "Epoch [42/50], Loss: 0.0061\n",
      "Epoch [43/50], Loss: 0.0063\n",
      "Epoch [44/50], Loss: 0.0062\n",
      "Epoch [45/50], Loss: 0.0057\n",
      "Epoch [46/50], Loss: 0.0057\n",
      "Epoch [47/50], Loss: 0.0059\n",
      "Epoch [48/50], Loss: 0.0058\n",
      "Epoch [49/50], Loss: 0.0061\n",
      "Epoch [50/50], Loss: 0.0056\n"
     ]
    }
   ],
   "source": [
    "for epoch in range(num_epochs):\n",
    "    total_loss = 0\n",
    "    for data in train_loader:\n",
    "        data = data.to(device)\n",
    "        optimizer.zero_grad()\n",
    "        output = model(data)\n",
    "\n",
    "        mse = mse_loss(output, data)\n",
    "        ms_ssim_loss = 1 - multi_scale_ssim(output, data, data_range=1.0, reduction=\"mean\")\n",
    "        loss = alpha * mse + (1 - alpha) * ms_ssim_loss\n",
    "        \n",
    "        loss.backward()\n",
    "        optimizer.step()\n",
    "        total_loss += loss.item()\n",
    "    print(f\"Epoch [{epoch+1}/{num_epochs}], Loss: {total_loss / len(train_loader):.4f}\")"
   ]
  },
  {
   "cell_type": "code",
   "execution_count": 15,
   "metadata": {},
   "outputs": [
    {
     "name": "stdout",
     "output_type": "stream",
     "text": [
      "Test Metrics:\n",
      "Average PSNR: 26.7770\n",
      "Average SSIM: 0.9875\n",
      "Average MSE: 0.0022\n",
      "Average MS-SSIM: 0.9938\n"
     ]
    }
   ],
   "source": [
    "evaluate(model)"
   ]
  },
  {
   "cell_type": "code",
   "execution_count": 20,
   "metadata": {},
   "outputs": [
    {
     "data": {
      "text/plain": [
       "2812"
      ]
     },
     "execution_count": 20,
     "metadata": {},
     "output_type": "execute_result"
    }
   ],
   "source": [
    "import gc\n",
    "\n",
    "# del x, optimizer\n",
    "torch.cuda.empty_cache()\n",
    "gc.collect()"
   ]
  },
  {
   "cell_type": "code",
   "execution_count": null,
   "metadata": {},
   "outputs": [],
   "source": []
  }
 ],
 "metadata": {
  "kernelspec": {
   "display_name": "Python3 (ipykernel)",
   "language": "python",
   "name": "python3"
  },
  "language_info": {
   "codemirror_mode": {
    "name": "ipython",
    "version": 3
   },
   "file_extension": ".py",
   "mimetype": "text/x-python",
   "name": "python",
   "nbconvert_exporter": "python",
   "pygments_lexer": "ipython3",
   "version": "3.10.12"
  }
 },
 "nbformat": 4,
 "nbformat_minor": 4
}
